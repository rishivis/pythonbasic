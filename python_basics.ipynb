{
  "nbformat": 4,
  "nbformat_minor": 0,
  "metadata": {
    "colab": {
      "provenance": []
    },
    "kernelspec": {
      "name": "python3",
      "display_name": "Python 3"
    },
    "language_info": {
      "name": "python"
    }
  },
  "cells": [
    {
      "cell_type": "code",
      "execution_count": null,
      "metadata": {
        "id": "acmrSWmvoNc8"
      },
      "outputs": [],
      "source": []
    },
    {
      "cell_type": "markdown",
      "source": [
        " What is Python, and why is it popular?\n",
        " > Python is a high-level programming language that is easy to learn and use .Python is used to build websites, analyze data, create software, and even in artificial intelligence (AI) and machine learning.python is so popular becouse it has many libraries and frameworks that help developers work more efficiently.\n"
      ],
      "metadata": {
        "id": "ttn49rFKoV0G"
      }
    },
    {
      "cell_type": "markdown",
      "source": [
        " What is an interpreter in Python?\n",
        " > Interpreter in Python is a tool that reads and runs your Python code."
      ],
      "metadata": {
        "id": "Z7lgynD5pHdm"
      }
    },
    {
      "cell_type": "markdown",
      "source": [
        "What are pre-defined keywords in Python?\n",
        "> A special words that have a specific meaning in the Python language are called pre-defined keywords in Python.For example if , else , while , for and input."
      ],
      "metadata": {
        "id": "C_Vgiq56piHp"
      }
    },
    {
      "cell_type": "markdown",
      "source": [
        "Can keywords be used as variable names?\n",
        "> No"
      ],
      "metadata": {
        "id": "d8J-x5J2qH3C"
      }
    },
    {
      "cell_type": "markdown",
      "source": [
        "What is mutability in Python?\n",
        "> Mutable objects can be changed. For example, lists and dictionaries can be modified after they are created."
      ],
      "metadata": {
        "id": "acJxY-_pqdkr"
      }
    },
    {
      "cell_type": "markdown",
      "source": [
        "Why are lists mutable, but tuples are immutable?\n",
        ">Lists are mutable because you can change, add, or remove items from a list after it is created.Tuples are immutable because once they are created, you cannot change, add, or remove items."
      ],
      "metadata": {
        "id": "ZtkOpMfsrIAg"
      }
    },
    {
      "cell_type": "markdown",
      "source": [
        " What is the difference between “==” and “is” operators in Python?\n",
        " >“==” checks if two things have the same value.\n",
        "“is” checks if two things are the exact same object in memory."
      ],
      "metadata": {
        "id": "Eq5U50Q5rhJP"
      }
    },
    {
      "cell_type": "markdown",
      "source": [
        "What are logical operators in Python?\n",
        "> Logical operators in Python are used to combine multiple conditions and return a result based on whether those conditions are true or false."
      ],
      "metadata": {
        "id": "iy_liIStsCPs"
      }
    },
    {
      "cell_type": "markdown",
      "source": [
        "What is type casting in Python?\n",
        ">Type casting in Python is the process of converting one data type into another."
      ],
      "metadata": {
        "id": "ep5MA7tbsgKV"
      }
    },
    {
      "cell_type": "markdown",
      "source": [
        "What is the difference between implicit and explicit type casting?\n",
        "> Implicit casting: Python automatically converts one data type to another.\n",
        "Explicit casting: You manually convert one data type to another using functions like int(), float(), or str()."
      ],
      "metadata": {
        "id": "gGmySFmis3lF"
      }
    },
    {
      "cell_type": "markdown",
      "source": [
        "What is the purpose of conditional statements in Python?\n",
        ">Conditional statements in Python help your program make choices based on conditions.Example - if , else and elif ."
      ],
      "metadata": {
        "id": "CJ86Uj2KtH6n"
      }
    },
    {
      "cell_type": "markdown",
      "source": [
        " How does the elif statement work?\n",
        " > The elif statement in Python is used to check multiple conditions after an if statement."
      ],
      "metadata": {
        "id": "y52QooEPtrRL"
      }
    },
    {
      "cell_type": "markdown",
      "source": [
        "What is the difference between for and while loops?\n",
        "> “for” loops are used for iterating over a sequence of elements, while “while” loops are used for executing code until a specified condition becomes False."
      ],
      "metadata": {
        "id": "PWwtupRgt_9F"
      }
    },
    {
      "cell_type": "markdown",
      "source": [
        "Describe a scenario where a while loop is more suitable than a for loop.\n",
        ">A while loop is more suitable than a for loop when you don’t know in advance how many times you need to repeat a task. It keeps repeating as long as a certain condition is true."
      ],
      "metadata": {
        "id": "wUzYiK6euKza"
      }
    }
  ]
}